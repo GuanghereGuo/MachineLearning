{
 "cells": [
  {
   "cell_type": "code",
   "id": "initial_id",
   "metadata": {
    "collapsed": true,
    "ExecuteTime": {
     "end_time": "2025-08-13T14:27:09.980164Z",
     "start_time": "2025-08-13T14:27:09.974721Z"
    }
   },
   "source": [
    "for i in range(10):\n",
    "    x = i\n",
    "print(x)"
   ],
   "outputs": [
    {
     "name": "stdout",
     "output_type": "stream",
     "text": [
      "9\n"
     ]
    }
   ],
   "execution_count": 1
  },
  {
   "metadata": {
    "ExecuteTime": {
     "end_time": "2025-08-13T14:28:17.379857Z",
     "start_time": "2025-08-13T14:28:17.376355Z"
    }
   },
   "cell_type": "code",
   "source": [
    "y = 100\n",
    "\n",
    "def f():\n",
    "    y = 200\n",
    "    print(y)\n",
    "\n",
    "f()\n",
    "print(y)"
   ],
   "id": "15c2997f3fcd77aa",
   "outputs": [
    {
     "name": "stdout",
     "output_type": "stream",
     "text": [
      "200\n",
      "100\n"
     ]
    }
   ],
   "execution_count": 2
  },
  {
   "metadata": {
    "ExecuteTime": {
     "end_time": "2025-08-15T07:52:05.182481Z",
     "start_time": "2025-08-15T07:52:05.179207Z"
    }
   },
   "cell_type": "code",
   "source": [
    "a = [1, 1, 4, 5, 1, 4]\n",
    "\n",
    "print(a[1:4])\n",
    "print(a[1:114])\n",
    "print(a[114:514])\n",
    "print(a[3:1])\n",
    "print(a[3:1:-1])"
   ],
   "id": "b5030c3dbda45ed6",
   "outputs": [
    {
     "name": "stdout",
     "output_type": "stream",
     "text": [
      "[1, 4, 5]\n",
      "[1, 4, 5, 1, 4]\n",
      "[]\n",
      "[]\n",
      "[5, 4]\n"
     ]
    }
   ],
   "execution_count": 6
  }
 ],
 "metadata": {
  "kernelspec": {
   "display_name": "Python 3",
   "language": "python",
   "name": "python3"
  },
  "language_info": {
   "codemirror_mode": {
    "name": "ipython",
    "version": 2
   },
   "file_extension": ".py",
   "mimetype": "text/x-python",
   "name": "python",
   "nbconvert_exporter": "python",
   "pygments_lexer": "ipython2",
   "version": "2.7.6"
  }
 },
 "nbformat": 4,
 "nbformat_minor": 5
}
