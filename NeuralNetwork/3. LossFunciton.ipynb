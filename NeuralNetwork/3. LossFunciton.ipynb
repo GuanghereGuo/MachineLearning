{
 "cells": [
  {
   "cell_type": "code",
   "id": "initial_id",
   "metadata": {
    "collapsed": true,
    "ExecuteTime": {
     "end_time": "2025-08-04T09:09:45.874096Z",
     "start_time": "2025-08-04T09:09:45.870805Z"
    }
   },
   "source": [
    "import numpy as np\n",
    "import matplotlib.pyplot as plt\n",
    "\n",
    "def mean_squared_error(y_true, y_pred):\n",
    "    return np.sum((y_true - y_pred) ** 2) / 2\n",
    "\n",
    "def cross_entropy_error(y_true, y_pred):\n",
    "    return -np.sum(y_true * np.log(y_pred + 1e-15))\n"
   ],
   "outputs": [],
   "execution_count": 27
  },
  {
   "metadata": {
    "ExecuteTime": {
     "end_time": "2025-08-04T09:09:41.870597Z",
     "start_time": "2025-08-04T09:09:39.639523Z"
    }
   },
   "cell_type": "code",
   "source": [
    "from sklearn.datasets import fetch_openml\n",
    "\n",
    "def to_one_hot(y, num_classes):\n",
    "    return np.eye(num_classes)[y]\n",
    "\n",
    "mnist = fetch_openml('mnist_784', version=1, as_frame=False)\n",
    "\n",
    "X = mnist.data / 255.0\n",
    "y = mnist.target.astype(int)\n",
    "y = to_one_hot(y, 10)\n",
    "\n",
    "batch_size = 10\n",
    "train_size = y.shape[0]\n",
    "batch_mask = np.random.choice(train_size, batch_size, replace=False)\n",
    "X_batch = X[batch_mask]\n",
    "y_batch = y[batch_mask]\n",
    "\n",
    "def cross_entropy_error_batch(y_true, y_pred):\n",
    "    batch_size = y_true.shape[0]\n",
    "    return -np.sum(y_true * np.log(y_pred + 1e-15)) / batch_size\n"
   ],
   "id": "4dc26fb179a26887",
   "outputs": [],
   "execution_count": 26
  },
  {
   "metadata": {},
   "cell_type": "code",
   "outputs": [],
   "execution_count": null,
   "source": [
    "from sklearn.datasets import fetch_openml\n",
    "\n",
    "def to_one_hot(y, num_classes):\n",
    "    return np.eye(num_classes)[y]\n",
    "\n",
    "mnist = fetch_openml('mnist_784', version=1, as_frame=False)\n",
    "\n",
    "X = mnist.data / 255.0\n",
    "y = mnist.target.astype(int)\n",
    "\n",
    "def cross_entropy_error_batch(y_true, y_pred):\n",
    "    if y_pred.ndim == 1:\n",
    "        y_pred = y_pred.reshape(1, len(y_pred))\n",
    "\n",
    "    batch_size = y_pred.shape[0]\n",
    "    return -np.sum(np.log(y[np.arange(batch_size), y_true] + 1e-15)) / batch_size\n"
   ],
   "id": "7c5f5af5030b0c2e"
  }
 ],
 "metadata": {
  "kernelspec": {
   "display_name": "Python 3",
   "language": "python",
   "name": "python3"
  },
  "language_info": {
   "codemirror_mode": {
    "name": "ipython",
    "version": 2
   },
   "file_extension": ".py",
   "mimetype": "text/x-python",
   "name": "python",
   "nbconvert_exporter": "python",
   "pygments_lexer": "ipython2",
   "version": "2.7.6"
  }
 },
 "nbformat": 4,
 "nbformat_minor": 5
}
