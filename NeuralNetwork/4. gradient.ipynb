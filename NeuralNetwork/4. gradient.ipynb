{
 "cells": [
  {
   "cell_type": "code",
   "id": "initial_id",
   "metadata": {
    "collapsed": true,
    "ExecuteTime": {
     "end_time": "2025-08-07T03:52:13.771166Z",
     "start_time": "2025-08-07T03:52:13.764991Z"
    }
   },
   "source": [
    "import numpy as np\n",
    "\n",
    "def f1(x):\n",
    "    return np.sum(x**2)\n",
    "\n",
    "def numerical_gradient(f, x):\n",
    "    h = 1e-4\n",
    "    #grad = np.zeros_like(x)\n",
    "    grad = np.empty(x.shape)\n",
    "    for idx in range(len(x)):\n",
    "        tmp = x[idx]\n",
    "        x[idx] = tmp + h\n",
    "        fxh1 = f(x)  # f(x + h)\n",
    "        x[idx] = tmp - h\n",
    "        fxh2 = f(x)  # f(x - h)\n",
    "        grad[idx] = (fxh1 - fxh2) / (2 * h)\n",
    "        x[idx] = tmp\n",
    "    return grad\n",
    "\n",
    "numerical_gradient(f1, np.array([3.0, 4.0])) #必须是float\n",
    "\n",
    "def gradient_descent(f, init_x, lr = 0.01, step_num = 100):\n",
    "    x = init_x.copy()\n",
    "    for i in range(step_num):\n",
    "        grad = numerical_gradient(f, x)\n",
    "        x -= lr * grad\n",
    "    return x\n",
    "\n",
    "print(gradient_descent(f1, np.array([-3.0, 4.0]), lr = 0.1, step_num = 100))\n"
   ],
   "outputs": [
    {
     "name": "stdout",
     "output_type": "stream",
     "text": [
      "[-6.11110793e-10  8.14814391e-10]\n"
     ]
    }
   ],
   "execution_count": 6
  }
 ],
 "metadata": {
  "kernelspec": {
   "display_name": "Python 3",
   "language": "python",
   "name": "python3"
  },
  "language_info": {
   "codemirror_mode": {
    "name": "ipython",
    "version": 2
   },
   "file_extension": ".py",
   "mimetype": "text/x-python",
   "name": "python",
   "nbconvert_exporter": "python",
   "pygments_lexer": "ipython2",
   "version": "2.7.6"
  }
 },
 "nbformat": 4,
 "nbformat_minor": 5
}
