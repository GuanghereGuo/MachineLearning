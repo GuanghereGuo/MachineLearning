{
 "cells": [
  {
   "cell_type": "code",
   "id": "initial_id",
   "metadata": {
    "collapsed": true,
    "ExecuteTime": {
     "end_time": "2025-08-06T15:01:09.929066Z",
     "start_time": "2025-08-06T15:01:09.924244Z"
    }
   },
   "source": [
    "import numpy as np\n",
    "\n",
    "def f1(x):\n",
    "    return np.sum(x**2)\n",
    "\n",
    "def numerical_gradient(f, x):\n",
    "    h = 1e-4\n",
    "    #grad = np.zeros_like(x)\n",
    "    grad = np.empty(x.shape)\n",
    "    for idx in range(len(x)):\n",
    "        tmp = x[idx]\n",
    "        x[idx] = tmp + h\n",
    "        fxh1 = f(x)  # f(x + h)\n",
    "        x[idx] = tmp - h\n",
    "        fxh2 = f(x)  # f(x - h)\n",
    "        grad[idx] = (fxh1 - fxh2) / (2 * h)\n",
    "        x[idx] = tmp\n",
    "    return grad\n",
    "\n",
    "numerical_gradient(f1, np.array([3.0, 4.0, 5.0, 6.0])) #必须是float\n",
    "\n"
   ],
   "outputs": [
    {
     "data": {
      "text/plain": [
       "array([ 6.,  8., 10., 12.])"
      ]
     },
     "execution_count": 11,
     "metadata": {},
     "output_type": "execute_result"
    }
   ],
   "execution_count": 11
  }
 ],
 "metadata": {
  "kernelspec": {
   "display_name": "Python 3",
   "language": "python",
   "name": "python3"
  },
  "language_info": {
   "codemirror_mode": {
    "name": "ipython",
    "version": 2
   },
   "file_extension": ".py",
   "mimetype": "text/x-python",
   "name": "python",
   "nbconvert_exporter": "python",
   "pygments_lexer": "ipython2",
   "version": "2.7.6"
  }
 },
 "nbformat": 4,
 "nbformat_minor": 5
}
