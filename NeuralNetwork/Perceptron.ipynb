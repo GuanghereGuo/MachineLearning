{
 "cells": [
  {
   "cell_type": "code",
   "id": "initial_id",
   "metadata": {
    "collapsed": true,
    "ExecuteTime": {
     "end_time": "2025-07-28T13:04:40.791755Z",
     "start_time": "2025-07-28T13:04:40.787805Z"
    }
   },
   "source": [
    "import numpy as np\n",
    "\n",
    "def my_and(x1, x2):\n",
    "    x = np.array([x1, x2])\n",
    "    w = np.array([0.5, 0.5])\n",
    "    b = -0.7\n",
    "    y = np.dot(w, x) + b\n",
    "    return True if y > 0 else False\n",
    "\n",
    "print(my_and(True, True))\n",
    "print(my_and(True, False))\n",
    "print(my_and(False, True))\n",
    "print(my_and(False, False))\n",
    "\n",
    "\n",
    "assert my_and(True, True) == True\n",
    "assert my_and(True, False) == False\n",
    "assert my_and(False, True) == False\n",
    "assert my_and(False, False) == False"
   ],
   "outputs": [
    {
     "name": "stdout",
     "output_type": "stream",
     "text": [
      "True\n",
      "False\n",
      "False\n",
      "False\n"
     ]
    }
   ],
   "execution_count": 3
  },
  {
   "metadata": {
    "ExecuteTime": {
     "end_time": "2025-07-28T13:50:36.567242Z",
     "start_time": "2025-07-28T13:50:36.563242Z"
    }
   },
   "cell_type": "code",
   "source": [
    "def my_or(x1, x2):\n",
    "    x = np.array([x1, x2])\n",
    "    w = np.array([0.5, 0.5])\n",
    "    b = -0.3\n",
    "    y = np.dot(w, x) + b\n",
    "    return True if y > 0 else False\n",
    "\n",
    "def my_xor(x1, x2):\n",
    "    return (not my_and(x1, x2)) and (my_or(x1, x2))\n",
    "\n",
    "assert my_xor(True, True) == False\n",
    "assert my_xor(True, False) == True\n",
    "assert my_xor(False, True) == True\n",
    "assert my_xor(False, False) == False"
   ],
   "id": "e46bf42eacf64a51",
   "outputs": [],
   "execution_count": 4
  }
 ],
 "metadata": {
  "kernelspec": {
   "display_name": "Python 3",
   "language": "python",
   "name": "python3"
  },
  "language_info": {
   "codemirror_mode": {
    "name": "ipython",
    "version": 2
   },
   "file_extension": ".py",
   "mimetype": "text/x-python",
   "name": "python",
   "nbconvert_exporter": "python",
   "pygments_lexer": "ipython2",
   "version": "2.7.6"
  }
 },
 "nbformat": 4,
 "nbformat_minor": 5
}
